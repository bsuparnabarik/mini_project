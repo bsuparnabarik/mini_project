{
 "cells": [
  {
   "cell_type": "code",
   "execution_count": 2,
   "id": "b1809302",
   "metadata": {},
   "outputs": [],
   "source": [
    "import warnings\n",
    "warnings.filterwarnings('ignore')\n",
    "import pandas as pd\n",
    "import numpy as np"
   ]
  },
  {
   "cell_type": "code",
   "execution_count": 3,
   "id": "fd08e591",
   "metadata": {},
   "outputs": [
    {
     "data": {
      "text/html": [
       "<div>\n",
       "<style scoped>\n",
       "    .dataframe tbody tr th:only-of-type {\n",
       "        vertical-align: middle;\n",
       "    }\n",
       "\n",
       "    .dataframe tbody tr th {\n",
       "        vertical-align: top;\n",
       "    }\n",
       "\n",
       "    .dataframe thead th {\n",
       "        text-align: right;\n",
       "    }\n",
       "</style>\n",
       "<table border=\"1\" class=\"dataframe\">\n",
       "  <thead>\n",
       "    <tr style=\"text-align: right;\">\n",
       "      <th></th>\n",
       "      <th>store</th>\n",
       "      <th>sales</th>\n",
       "    </tr>\n",
       "  </thead>\n",
       "  <tbody>\n",
       "    <tr>\n",
       "      <th>0</th>\n",
       "      <td>s1</td>\n",
       "      <td>70</td>\n",
       "    </tr>\n",
       "    <tr>\n",
       "      <th>1</th>\n",
       "      <td>s2</td>\n",
       "      <td>8</td>\n",
       "    </tr>\n",
       "    <tr>\n",
       "      <th>2</th>\n",
       "      <td>s2</td>\n",
       "      <td>12</td>\n",
       "    </tr>\n",
       "    <tr>\n",
       "      <th>3</th>\n",
       "      <td>s1</td>\n",
       "      <td>70</td>\n",
       "    </tr>\n",
       "    <tr>\n",
       "      <th>4</th>\n",
       "      <td>s2</td>\n",
       "      <td>8</td>\n",
       "    </tr>\n",
       "    <tr>\n",
       "      <th>5</th>\n",
       "      <td>s1</td>\n",
       "      <td>9</td>\n",
       "    </tr>\n",
       "  </tbody>\n",
       "</table>\n",
       "</div>"
      ],
      "text/plain": [
       "  store  sales\n",
       "0    s1     70\n",
       "1    s2      8\n",
       "2    s2     12\n",
       "3    s1     70\n",
       "4    s2      8\n",
       "5    s1      9"
      ]
     },
     "execution_count": 3,
     "metadata": {},
     "output_type": "execute_result"
    }
   ],
   "source": [
    "dr={\"store\":[\"s1\",\"s2\",\"s2\",\"s1\",\"s2\",\"s1\"],\"sales\":[70,8,12,70,8,9]}\n",
    "dr_df=pd.DataFrame(dr)\n",
    "dr_df"
   ]
  },
  {
   "cell_type": "code",
   "execution_count": 23,
   "id": "9ec50088",
   "metadata": {},
   "outputs": [],
   "source": [
    "class Windows:\n",
    "    def Row_no(self,data,partition_by,order_by=\"\",order=\"asc\"):\n",
    "        v=data[partition_by].value_counts()\n",
    "        zip1=zip(v.index,v)\n",
    "        df2=pd.DataFrame()\n",
    "        for i,j in zip1:\n",
    "            lst=[]\n",
    "            df1=pd.DataFrame()\n",
    "            if order_by==\"\":\n",
    "                df1=data[data[partition_by]==i]\n",
    "            else:\n",
    "                if order==\"asc\":\n",
    "                    df1=data[data[partition_by]==i].sort_values(by=order_by)\n",
    "                elif order==\"desc\":\n",
    "                    df1=data[data[partition_by]==i].sort_values(by=order_by,ascending=False)\n",
    "            lst=list(range(1,j+1))\n",
    "            df1[\"rowno\"]=lst\n",
    "            df2=pd.concat([df2,df1],axis=0,ignore_index=True)\n",
    "        print(df2)\n",
    "    \n",
    "    def rank(self,data,order_by,order=\"asc\",partition_by=\"\"):\n",
    "        df2=pd.DataFrame()\n",
    "        if order==\"asc\":\n",
    "            data=data.sort_values(by=order_by)\n",
    "        elif order==\"desc\":\n",
    "            data=data.sort_values(by=order_by,ascending=False)\n",
    "            ##print(data)\n",
    "        if partition_by!=\"\":\n",
    "            unq=data[partition_by].unique()\n",
    "            for i in unq:\n",
    "                data1=data[data[partition_by]==i]\n",
    "                lst4=list(data1[order_by].values)\n",
    "                lst5=[]\n",
    "                for i in lst4:\n",
    "                    lst5.append(lst4.index(i)+1)\n",
    "                data1[\"Rank\"]=lst5\n",
    "                df2=pd.concat([df2,data1],axis=0)\n",
    "        else:\n",
    "            lst4=list(data[order_by].values)\n",
    "            lst5=[]\n",
    "            for i in lst4:\n",
    "                lst5.append(lst4.index(i)+1)\n",
    "            data[\"Rank\"]=lst5\n",
    "            df2=pd.concat([df2,data],axis=0)\n",
    "        print(df2)\n",
    "    \n",
    "    \n",
    "    import numpy as np\n",
    "    def dense_rank(self,data,order_by,order=\"asc\",partition_by=\"\"):\n",
    "        df2=pd.DataFrame()\n",
    "        if order==\"asc\":\n",
    "            data=data.sort_values(by=order_by)\n",
    "        elif order==\"desc\":\n",
    "            data=data.sort_values(by=order_by,ascending=False)\n",
    "        if partition_by!=\"\":\n",
    "            unq=data[partition_by].unique()\n",
    "            for i in unq:\n",
    "                data1=data[data[partition_by]==i]\n",
    "                lst1=[np.nan]\n",
    "                lst1.extend(data1[order_by].values[:len(data1)-1])\n",
    "                lst2=list(data1[order_by].values)\n",
    "                lst5=[]\n",
    "                zip_lst=zip(lst1,lst2)\n",
    "                p=0\n",
    "                lst5=[]\n",
    "                for i,j in zip_lst:\n",
    "                    if i==j:\n",
    "                        lst5.append(p)\n",
    "                    else:\n",
    "                        p=p+1\n",
    "                        lst5.append(p)\n",
    "                data1[\"dense_Rank\"]=lst5\n",
    "                df2=pd.concat([df2,data1],axis=0)\n",
    "        else:\n",
    "            data1=data.copy()\n",
    "            lst1=[np.nan]\n",
    "            lst1.extend(data1[order_by].values[:len(data1)-1])\n",
    "            lst2=list(data1[order_by].values)\n",
    "            lst5=[]\n",
    "            zip_lst=zip(lst1,lst2)\n",
    "            p=0\n",
    "            lst5=[]\n",
    "            for i,j in zip_lst:\n",
    "                if i==j:\n",
    "                    lst5.append(p)\n",
    "                else:\n",
    "                    p=p+1\n",
    "                    lst5.append(p)\n",
    "            data1[\"dense_Rank\"]=lst5\n",
    "            df2=pd.concat([df2,data1],axis=0)\n",
    "        print(df2)\n",
    "        \n",
    "        \n",
    "    def lag(self,data,lag,partition_by,order_by,order=\"asc\"):\n",
    "        df2=pd.DataFrame()\n",
    "        if order==\"asc\":\n",
    "            data=data.sort_values(by=order_by)\n",
    "        elif order==\"desc\":\n",
    "            data=data.sort_values(by=order_by,ascending=False)\n",
    "        if partition_by!=\"\":\n",
    "            unq=data[partition_by].unique()\n",
    "            for i in unq:\n",
    "                data1=data[data[partition_by]==i] \n",
    "                lst1=[np.nan]*lag\n",
    "                lst1.extend(data1[order_by].values[:len(data1)-lag])\n",
    "                data1[\"lagged_data\"]=lst1\n",
    "                df2=pd.concat([df2,data1],axis=0)\n",
    "        print(df2)\n",
    "\n",
    "    def lead(self,data,lead,partition_by,order_by,order=\"asc\"):\n",
    "        df2=pd.DataFrame()\n",
    "        if order==\"asc\":\n",
    "            data=data.sort_values(by=order_by)\n",
    "        elif order==\"desc\":\n",
    "            data=data.sort_values(by=order_by,ascending=False)\n",
    "        if partition_by!=\"\":\n",
    "            unq=data[partition_by].unique()\n",
    "            for i in unq:\n",
    "                data1=data[data[partition_by]==i] \n",
    "                lst1=[]\n",
    "                lst1.extend(data1[order_by].values[lead:])\n",
    "                lst1.extend([np.nan]*lead)\n",
    "                data1[\"lead_data\"]=lst1\n",
    "                df2=pd.concat([df2,data1],axis=0)\n",
    "        print(df2)"
   ]
  },
  {
   "cell_type": "code",
   "execution_count": 24,
   "id": "0e4ac731",
   "metadata": {},
   "outputs": [],
   "source": [
    "ob=Windows()"
   ]
  },
  {
   "cell_type": "code",
   "execution_count": 27,
   "id": "4945d8b3",
   "metadata": {},
   "outputs": [
    {
     "name": "stdout",
     "output_type": "stream",
     "text": [
      "  store  sales  rowno\n",
      "0    s1     70      1\n",
      "1    s1     70      2\n",
      "2    s1      9      3\n",
      "3    s2      8      1\n",
      "4    s2     12      2\n",
      "5    s2      8      3\n"
     ]
    }
   ],
   "source": [
    "ob.Row_no(dr_df,\"store\")"
   ]
  },
  {
   "cell_type": "code",
   "execution_count": 28,
   "id": "35873935",
   "metadata": {},
   "outputs": [
    {
     "name": "stdout",
     "output_type": "stream",
     "text": [
      "  store  sales  rowno\n",
      "0    s1      9      1\n",
      "1    s1     70      2\n",
      "2    s1     70      3\n",
      "3    s2      8      1\n",
      "4    s2      8      2\n",
      "5    s2     12      3\n"
     ]
    }
   ],
   "source": [
    "ob.Row_no(dr_df,\"store\",\"sales\",\"asc\")"
   ]
  },
  {
   "cell_type": "code",
   "execution_count": 29,
   "id": "6958c03c",
   "metadata": {},
   "outputs": [
    {
     "name": "stdout",
     "output_type": "stream",
     "text": [
      "  store  sales  Rank\n",
      "1    s2      8     1\n",
      "4    s2      8     1\n",
      "5    s1      9     3\n",
      "2    s2     12     4\n",
      "0    s1     70     5\n",
      "3    s1     70     5\n"
     ]
    }
   ],
   "source": [
    "ob.rank(dr_df,\"sales\",\"asc\")"
   ]
  },
  {
   "cell_type": "code",
   "execution_count": 30,
   "id": "afbac53d",
   "metadata": {},
   "outputs": [
    {
     "name": "stdout",
     "output_type": "stream",
     "text": [
      "  store  sales  Rank\n",
      "1    s2      8     1\n",
      "4    s2      8     1\n",
      "2    s2     12     3\n",
      "5    s1      9     1\n",
      "0    s1     70     2\n",
      "3    s1     70     2\n"
     ]
    }
   ],
   "source": [
    "ob.rank(dr_df,\"sales\",\"asc\",\"store\")"
   ]
  },
  {
   "cell_type": "code",
   "execution_count": 155,
   "id": "cf960ec7",
   "metadata": {},
   "outputs": [
    {
     "name": "stdout",
     "output_type": "stream",
     "text": [
      "  store  sales  dense_Rank\n",
      "1    s2      8           1\n",
      "4    s2      8           1\n",
      "5    s1      9           2\n",
      "2    s2     12           3\n",
      "0    s1     70           4\n",
      "3    s1     70           4\n"
     ]
    }
   ],
   "source": [
    "ob.dense_rank(dr_df,\"sales\",\"asc\")"
   ]
  },
  {
   "cell_type": "code",
   "execution_count": 156,
   "id": "d62471b4",
   "metadata": {},
   "outputs": [
    {
     "name": "stdout",
     "output_type": "stream",
     "text": [
      "  store  sales  dense_Rank\n",
      "1    s2      8           1\n",
      "4    s2      8           1\n",
      "2    s2     12           2\n",
      "5    s1      9           1\n",
      "0    s1     70           2\n",
      "3    s1     70           2\n"
     ]
    }
   ],
   "source": [
    "ob.dense_rank(dr_df,\"sales\",\"asc\",\"store\")"
   ]
  },
  {
   "cell_type": "code",
   "execution_count": 32,
   "id": "39a49b6d",
   "metadata": {},
   "outputs": [
    {
     "name": "stdout",
     "output_type": "stream",
     "text": [
      "  store  sales  lagged_data\n",
      "1    s2      8          NaN\n",
      "4    s2      8          NaN\n",
      "2    s2     12          8.0\n",
      "5    s1      9          NaN\n",
      "0    s1     70          NaN\n",
      "3    s1     70          9.0\n"
     ]
    }
   ],
   "source": [
    "ob.lag(dr_df,2,\"store\",\"sales\",\"asc\")"
   ]
  },
  {
   "cell_type": "code",
   "execution_count": 163,
   "id": "7acb90e0",
   "metadata": {},
   "outputs": [
    {
     "name": "stdout",
     "output_type": "stream",
     "text": [
      "  store  sales  lagged_data\n",
      "0    s1     70          NaN\n",
      "3    s1     70          NaN\n",
      "5    s1      9         70.0\n",
      "2    s2     12          NaN\n",
      "1    s2      8          NaN\n",
      "4    s2      8         12.0\n"
     ]
    }
   ],
   "source": [
    "ob.lag(dr_df,2,\"store\",\"sales\",\"desc\")"
   ]
  },
  {
   "cell_type": "code",
   "execution_count": 164,
   "id": "119d164b",
   "metadata": {},
   "outputs": [
    {
     "name": "stdout",
     "output_type": "stream",
     "text": [
      "  store  sales  lead_data\n",
      "0    s1     70       70.0\n",
      "3    s1     70        9.0\n",
      "5    s1      9        NaN\n",
      "2    s2     12        8.0\n",
      "1    s2      8        8.0\n",
      "4    s2      8        NaN\n"
     ]
    }
   ],
   "source": [
    "ob.lead(dr_df,1,\"store\",\"sales\",\"desc\")"
   ]
  },
  {
   "cell_type": "code",
   "execution_count": 165,
   "id": "44415245",
   "metadata": {},
   "outputs": [
    {
     "name": "stdout",
     "output_type": "stream",
     "text": [
      "  store  sales  lead_data\n",
      "0    s1     70        9.0\n",
      "3    s1     70        NaN\n",
      "5    s1      9        NaN\n",
      "2    s2     12        8.0\n",
      "1    s2      8        NaN\n",
      "4    s2      8        NaN\n"
     ]
    }
   ],
   "source": [
    "ob.lead(dr_df,2,\"store\",\"sales\",\"desc\")"
   ]
  },
  {
   "cell_type": "code",
   "execution_count": null,
   "id": "d9f54de6",
   "metadata": {},
   "outputs": [],
   "source": []
  }
 ],
 "metadata": {
  "kernelspec": {
   "display_name": "Python 3 (ipykernel)",
   "language": "python",
   "name": "python3"
  },
  "language_info": {
   "codemirror_mode": {
    "name": "ipython",
    "version": 3
   },
   "file_extension": ".py",
   "mimetype": "text/x-python",
   "name": "python",
   "nbconvert_exporter": "python",
   "pygments_lexer": "ipython3",
   "version": "3.9.12"
  }
 },
 "nbformat": 4,
 "nbformat_minor": 5
}
